{
 "cells": [
  {
   "cell_type": "code",
   "execution_count": 1,
   "id": "26bf4e21-30a8-4d3b-aa0b-92d5bb457369",
   "metadata": {},
   "outputs": [],
   "source": [
    "#import libaries\n",
    "import numpy as np\n",
    "import skimage \n",
    "from skimage import io\n",
    "from skimage import color\n",
    "from matplotlib import pyplot as plt"
   ]
  },
  {
   "cell_type": "code",
   "execution_count": 2,
   "id": "2fe9147b-951c-4740-80e4-d528adb00f55",
   "metadata": {},
   "outputs": [],
   "source": [
    "# load image\n",
    "verlauf = io.imread(r'C:\\Users\\Jerome\\Desktop\\Code\\Einführung\\20x20.png')"
   ]
  },
  {
   "cell_type": "code",
   "execution_count": 3,
   "id": "984ddedc-3f20-47f4-9087-74fa670eca0a",
   "metadata": {},
   "outputs": [
    {
     "data": {
      "text/plain": [
       "numpy.uint8"
      ]
     },
     "execution_count": 3,
     "metadata": {},
     "output_type": "execute_result"
    },
    {
     "data": {
      "image/png": "[encoded data removed]",
      "text/plain": [
       "<Figure size 432x288 with 1 Axes>"
      ]
     },
     "metadata": {
      "needs_background": "light"
     },
     "output_type": "display_data"
    }
   ],
   "source": [
    "# show image\n",
    "plt.imshow(verlauf)\n",
    "type(verlauf[0,0,1])"
   ]
  },
  {
   "cell_type": "code",
   "execution_count": 4,
   "id": "cb992002-02a2-4c67-aa86-2f6da6abfc10",
   "metadata": {},
   "outputs": [],
   "source": [
    "# grayscale\n",
    "gray = color.rgb2gray(verlauf)"
   ]
  },
  {
   "cell_type": "code",
   "execution_count": 5,
   "id": "98441ff5-c5e2-4a54-8f75-735dead7d9d1",
   "metadata": {},
   "outputs": [
    {
     "data": {
      "text/plain": [
       "numpy.float64"
      ]
     },
     "execution_count": 5,
     "metadata": {},
     "output_type": "execute_result"
    },
    {
     "data": {
      "image/png": "[encoded data removed]",
      "text/plain": [
       "<Figure size 432x288 with 1 Axes>"
      ]
     },
     "metadata": {
      "needs_background": "light"
     },
     "output_type": "display_data"
    }
   ],
   "source": [
    "# show grayscale\n",
    "plt.imshow(gray, cmap = 'gray')\n",
    "type(gray[0,0])"
   ]
  },
  {
   "cell_type": "code",
   "execution_count": 7,
   "id": "e1444e5e-d35b-483a-bf8c-2caa08c90752",
   "metadata": {},
   "outputs": [
    {
     "data": {
      "text/plain": [
       "<matplotlib.image.AxesImage at 0x1bc159f1cf0>"
      ]
     },
     "execution_count": 7,
     "metadata": {},
     "output_type": "execute_result"
    },
    {
     "data": {
      "image/png": "[encoded data removed]",
      "text/plain": [
       "<Figure size 432x288 with 1 Axes>"
      ]
     },
     "metadata": {
      "needs_background": "light"
     },
     "output_type": "display_data"
    }
   ],
   "source": [
    "def bilineare_interpolation(img,scale):\n",
    "    #assert isinstance(img[0,0], int), 'type is {}, should be int'.format(type(img[0,0]))\n",
    "    # unzip image (width,height)\n",
    "    origin_width, origin_height = img.shape\n",
    "    # scale image (= img)\n",
    "    target_width =int(origin_width * scale)\n",
    "    target_height =int(origin_height * scale)\n",
    "    # pad img\n",
    "    img_padded = np.pad(img, 1, mode = 'edge')\n",
    "    #create new image (=target_img) with zeros as values\n",
    "    target_img= np.zeros((target_width,target_height))\n",
    "    \n",
    "    # loop over all pixel of t_img\n",
    "    for x in range(target_width):\n",
    "        for y in range(target_height):\n",
    "            #select origin pixel\n",
    "            x_origin = x/scale + 1\n",
    "            y_origin = y/scale + 1\n",
    "            # to avoid half pixel, we round them\n",
    "            # than we round up for the maximun value of the x and y pixel and we round down for the minimum of the x and y pixel\n",
    "            # we use this method to get two pixel on each axis near the pixel we want to determine\n",
    "            x_min = int(np.floor(x_origin)) \n",
    "            x_max = int(np.ceil(x_origin)) \n",
    "            y_min = int(np.floor(y_origin)) \n",
    "            y_max = int(np.ceil(y_origin))\n",
    "            # Find the point between Q_11 and Q_21, called R₁, and the point between Q_12 and Q_22, called R₂\n",
    "            # in this case there is a 1:1 correspondence, which can be taken\n",
    "            if (x_max-x_min) == 0 and (y_max-y_min == 0):\n",
    "                 f_x_y = img_padded[int(x_origin), int(y_origin)]\n",
    "            # in this case x is equal for Q₁₁ and Q₂₁ and hence Q₁₁ == Q₂₁,\n",
    "            # the same happens for Q_12 and Q_22\n",
    "            # interpolation needs only to be done in x direction\n",
    "            elif (x_max-x_min) == 0:\n",
    "                f_x_y1 = img_padded[int(x_origin), y_min]\n",
    "                f_x_y2 = img_padded[int(x_origin), y_max]\n",
    "                f_x_y = (((y_max-y_origin)/(y_max-y_min)) * f_x_y1) + (((y_origin-y_min)/(y_max-y_min)) * f_x_y2)\n",
    "            # in this case y is equal and interpolation needs only to be done in x direction\n",
    "            elif (y_max-y_min) == 0:\n",
    "                f_x1_y = img_padded[x_min, int(y_origin)]\n",
    "                f_x2_y = img_padded[x_max, int(y_origin)]\n",
    "                f_x_y = (((x_max-x_origin)/(x_max-x_min)) * f_x1_y) + (((x_origin-x_min)/(x_max-x_min)) * f_x2_y)\n",
    "            else:\n",
    "                # find the points Q_11, Q_12, Q_21 and Q_22\n",
    "                Q_11 = img_padded[x_min, y_min]\n",
    "                Q_12 = img_padded[x_min, y_max]\n",
    "                Q_21 = img_padded[x_max, y_min]\n",
    "                Q_22 = img_padded[x_max, y_max]\n",
    "\n",
    "                # find the points R₁ and R₂\n",
    "                r1 = ((x_max - x_origin)/(x_max - x_min)) * Q_11 + ((x_origin - x_min)/(x_max - x_min)) * Q_21\n",
    "                r2 = ((x_max - x_origin)/(x_max - x_min)) * Q_12 + ((x_origin - x_min)/(x_max - x_min)) * Q_22\n",
    "                \n",
    "                # use bilinear interpolation\n",
    "                f_x_y = ((y_max - y_origin)/(y_max - y_min)) * r1 + ((y_origin - y_min)/(y_max - y_min)) * r2    \n",
    "            \n",
    "            # set t_img as interpolated image\n",
    "            target_img[x,y] = f_x_y\n",
    "            \n",
    "    #return new imgage       \n",
    "    return target_img\n",
    "            \n",
    "# use function    \n",
    "upscaled_img= bilineare_interpolation(gray, 2)\n",
    "#proove the upscale method\n",
    "##aproved transiotion\n",
    "#assert int(upscaled_img[21,3]*255) == 75, 'upscaled_img at position [21,3] should be 75, not {}'.format(int(upscaled_img[21,3]*255))\n",
    "#aprooved padding\n",
    "#assert int(upscaled_img[1,39]*255) == 137, 'upscaled_img at position [1,39] should be 137, not {}'.format(int(upscaled_img[1,39]*255))\n",
    "#aprooved nearly same area\n",
    "#assert int(upscaled_img[23,19]*255) == 12, 'upscaled_img at position [23,19] should be 12, not {}'.format(int(upscaled_img[23,19]*255))\n",
    "#plot image\n",
    "plt.imshow(upscaled_img, cmap = 'gray')"
   ]
  },
  {
   "cell_type": "code",
   "execution_count": 9,
   "id": "edabf539-539c-4481-b045-026a6325ea29",
   "metadata": {},
   "outputs": [
    {
     "data": {
      "text/plain": [
       "numpy.float64"
      ]
     },
     "execution_count": 9,
     "metadata": {},
     "output_type": "execute_result"
    },
    {
     "data": {
      "image/png": "[encoded data removed]",
      "text/plain": [
       "<Figure size 432x288 with 1 Axes>"
      ]
     },
     "metadata": {
      "needs_background": "light"
     },
     "output_type": "display_data"
    }
   ],
   "source": [
    "def bilineare_interpolation_rgb(img,scale):\n",
    "    #the image must be an numpy integer\n",
    "    if img.dtype != 'uint8':\n",
    "        img = img.astype('uint8')\n",
    "    assert isinstance(img[0,0,0], np.uint8), 'type is {}, should be numpy.uint8, that means aa numpy integer'.format(type(img[0,0,0]))\n",
    "    # unzip image (width,height, rgb-channels)\n",
    "    origin_width, origin_height, channels = img.shape\n",
    "    # scale image (= img)\n",
    "    target_width =int(origin_width * scale)\n",
    "    target_height =int(origin_height * scale)\n",
    "    \n",
    "    #create new image (=target_img) with zeros as values\n",
    "    target_img = np.zeros((target_width, target_height, channels))\n",
    "    \n",
    "    #split the img into all color channels and use the function \"bilibilineare_interpolation\" for each channel\n",
    "    #transform the floats into integers, because the function only works with intergers by dividing by 255.0\n",
    "    target_img[:,:, 0] = bilineare_interpolation((img[:, :, 0] / 255.0), scale)\n",
    "    target_img[:,:, 1] = bilineare_interpolation((img[:, :, 1] / 255.0), scale)\n",
    "    target_img[:,:, 2] = bilineare_interpolation((img[:, :, 2] / 255.0), scale)\n",
    "    \n",
    "    #return new imgage\n",
    "    return target_img\n",
    "\n",
    "# use function    \n",
    "upscaled_img= bilineare_interpolation_rgb(verlauf, 2)\n",
    "#assert int(upscaled_img[2,5,0]*255) == 123, 'upscaled_img at position [2,5,0] should be 123, not {}'.format(int(upscaled_img[2,4,0]*255))\n",
    "#assert int(upscaled_img[2,5,1]*255) == 1, 'upscaled_img at position [2,5,1] should be 0, not {}'.format(int(upscaled_img[2,5,1]*255))\n",
    "#assert int(upscaled_img[2,5,2]*255) == 243, 'upscaled_img at position [2,5,2] should be 242, not {}'.format(int(upscaled_img[2,5,2]*255))\n",
    "plt.imshow(upscaled_img)\n",
    "type(np.max(upscaled_img))"
   ]
  },
  {
   "cell_type": "code",
   "execution_count": null,
   "id": "6136366e-55df-46c0-aa52-a310b0df0508",
   "metadata": {},
   "outputs": [],
   "source": [
    "#additional\n",
    "# https://en.wikipedia.org/wiki/Bilinear_interpolation\n",
    "#print('x_min: {}, x_max: {}'.format(x_min, x_max))\n",
    "#print('y_min: {}, y_max: {}'.format(y_min, y_max))"
   ]
  }
 ],
 "metadata": {
  "kernelspec": {
   "display_name": "Python 3 (ipykernel)",
   "language": "python",
   "name": "python3"
  },
  "language_info": {
   "codemirror_mode": {
    "name": "ipython",
    "version": 3
   },
   "file_extension": ".py",
   "mimetype": "text/x-python",
   "name": "python",
   "nbconvert_exporter": "python",
   "pygments_lexer": "ipython3",
   "version": "3.10.2"
  }
 },
 "nbformat": 4,
 "nbformat_minor": 5
}
